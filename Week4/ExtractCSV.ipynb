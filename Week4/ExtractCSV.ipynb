{
 "cells": [
  {
   "cell_type": "code",
   "execution_count": 1,
   "id": "38102530",
   "metadata": {},
   "outputs": [
    {
     "name": "stdout",
     "output_type": "stream",
     "text": [
      "   EmailID                        Subject                 Sender  \\\n",
      "0        1             Win a Free iPhone!       promo@winbig.com   \n",
      "1        2  Important: Account Suspension   support@fakemail.com   \n",
      "2        3      Newsletter - April Update  news@legitcompany.com   \n",
      "\n",
      "                                     Content  ContainsLink  IsSpam  \n",
      "0  Click here to claim your free iPhone now!          True    True  \n",
      "1   We noticed unusual activity. Verify now.          True    True  \n",
      "2           Here is your monthly newsletter.         False   False  \n"
     ]
    }
   ],
   "source": [
    "import pandas as pd\n",
    "df = pd.read_csv('sample_junk_mail.csv')\n",
    "print(df.head(3))"
   ]
  }
 ],
 "metadata": {
  "kernelspec": {
   "display_name": "Bhagya",
   "language": "python",
   "name": "python3"
  },
  "language_info": {
   "codemirror_mode": {
    "name": "ipython",
    "version": 3
   },
   "file_extension": ".py",
   "mimetype": "text/x-python",
   "name": "python",
   "nbconvert_exporter": "python",
   "pygments_lexer": "ipython3",
   "version": "3.8.20"
  }
 },
 "nbformat": 4,
 "nbformat_minor": 5
}
