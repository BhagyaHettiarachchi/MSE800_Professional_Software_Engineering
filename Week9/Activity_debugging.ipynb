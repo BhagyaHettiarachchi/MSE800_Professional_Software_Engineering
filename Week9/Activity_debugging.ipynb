{
 "cells": [
  {
   "cell_type": "code",
   "execution_count": 1,
   "id": "d54f011e-918e-4af8-9d88-bdd3abe5ac0a",
   "metadata": {},
   "outputs": [],
   "source": [
    "from random import randint"
   ]
  },
  {
   "cell_type": "code",
   "execution_count": null,
   "id": "e02fd5e3-2b7e-471a-a87d-815b42ed4b54",
   "metadata": {},
   "outputs": [
    {
     "name": "stdout",
     "output_type": "stream",
     "text": [
      "You got it!\n"
     ]
    }
   ],
   "source": [
    "# example 1\n",
    "for i in range(1, 21):\n",
    "    if i == 20:\n",
    "        print(f\"You got it!\")\n",
    "\n",
    "#The issue with your code is that the loop runs from 1 to 19 (inclusive) because range(1, 20) \n",
    "#stops before reaching 20. So the condition if i == 20 will never be true.\n",
    "\n",
    "# Describe the problem - Write your answers as comments:\n",
    "# 1. what is the loop doing?\n",
    "# 2. When is the function meant to print \"You got it!\"?\n",
    "# 3. What are your assumptions about the value of i?"
   ]
  },
  {
   "cell_type": "code",
   "execution_count": 8,
   "id": "8d18a63c-ab13-4a31-942c-be33a1607cda",
   "metadata": {},
   "outputs": [
    {
     "name": "stdout",
     "output_type": "stream",
     "text": [
      "4\n"
     ]
    }
   ],
   "source": [
    "# example 2\n",
    "dice_images = [\"1\", \"2\", \"3\", \"4\", \"5\", \"6\"]\n",
    "dice_num = randint(1, 6)\n",
    "print(dice_images[dice_num])\n",
    "\n",
    "#Python lists are zero-indexed, meaning: dice_images[0] = \"1\" dice_images[5] = \"6\"\n",
    "#But randint(1, 6) can return 6, so dice_images[6] would raise an IndexError because index 6 is out of range (valid indices are 0 to 5)."
   ]
  },
  {
   "cell_type": "code",
   "execution_count": 10,
   "id": "88ce2963-10bf-42ec-a02f-89811bda74fe",
   "metadata": {},
   "outputs": [
    {
     "name": "stdout",
     "output_type": "stream",
     "text": [
      "You are a Millennial\n"
     ]
    }
   ],
   "source": [
    "# example 3\n",
    "year = int(input(\"What is your year of birth?\"))\n",
    "\n",
    "if year >= 1980 and year <= 1994:\n",
    "    print(\"You are a Millennial\")\n",
    "elif year > 1994:\n",
    "    print(\"You are a Gen Z\")\n",
    "\n",
    "    #included boundary areas"
   ]
  },
  {
   "cell_type": "code",
   "execution_count": 11,
   "id": "c285fc19-0db3-4af1-bcbe-53bbbeccece4",
   "metadata": {},
   "outputs": [
    {
     "name": "stdout",
     "output_type": "stream",
     "text": [
      "We have 445 in total.\n"
     ]
    }
   ],
   "source": [
    "# example 4\n",
    "word_per_page = 0\n",
    "pages = int(input(\"Number of pages: \"))\n",
    "word_per_page = int(input(\"Number of words per page: \"))\n",
    "total_words = pages * word_per_page\n",
    "\n",
    "print(f\"We have {total_words} in total.\")\n",
    "\n",
    "#use = instead of =="
   ]
  },
  {
   "cell_type": "code",
   "execution_count": null,
   "id": "2effe735-10b3-4966-bb79-fffd2dc5138f",
   "metadata": {},
   "outputs": [],
   "source": [
    "# example 5\n",
    "def add(a1, a2):\n",
    "    return a1 + a2\n",
    "\n",
    "def mutate(a_list):\n",
    "    b_list = []\n",
    "    new_item = 0\n",
    "    for item in a_list:\n",
    "        new_item = item * 2\n",
    "        new_item += randint(1, 3)\n",
    "        new_item = add(new_item, item)\n",
    "    b_list.append(new_item)\n",
    "\n",
    "    print(b_list)"
   ]
  },
  {
   "cell_type": "code",
   "execution_count": null,
   "id": "2f7d32a6-565c-4573-9fb2-6203e69943f9",
   "metadata": {},
   "outputs": [],
   "source": [
    "a_demo_list = [1, 2, 3, 5, 1, 21, 4, 35]\n",
    "mutate(a_demo_list)"
   ]
  }
 ],
 "metadata": {
  "kernelspec": {
   "display_name": "Bhagya",
   "language": "python",
   "name": "python3"
  },
  "language_info": {
   "codemirror_mode": {
    "name": "ipython",
    "version": 3
   },
   "file_extension": ".py",
   "mimetype": "text/x-python",
   "name": "python",
   "nbconvert_exporter": "python",
   "pygments_lexer": "ipython3",
   "version": "3.8.20"
  }
 },
 "nbformat": 4,
 "nbformat_minor": 5
}
