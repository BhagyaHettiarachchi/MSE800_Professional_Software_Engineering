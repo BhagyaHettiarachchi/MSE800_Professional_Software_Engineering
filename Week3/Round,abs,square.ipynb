{
 "cells": [
  {
   "cell_type": "code",
   "execution_count": 1,
   "id": "f85e7d14",
   "metadata": {},
   "outputs": [
    {
     "name": "stdout",
     "output_type": "stream",
     "text": [
      "38\n",
      "38.5\n"
     ]
    }
   ],
   "source": [
    "length= 7\n",
    "width= 5.5\n",
    "Area = (length*width)\n",
    "\n",
    "#Round area of a rectangle land\n",
    "rounded_area = round(Area)\n",
    "print(rounded_area)\n",
    "\n",
    "#abs area of a rectangle land\n",
    "abs_area = abs(Area)\n",
    "print(abs_area)"
   ]
  }
 ],
 "metadata": {
  "kernelspec": {
   "display_name": "Bhagya",
   "language": "python",
   "name": "python3"
  },
  "language_info": {
   "codemirror_mode": {
    "name": "ipython",
    "version": 3
   },
   "file_extension": ".py",
   "mimetype": "text/x-python",
   "name": "python",
   "nbconvert_exporter": "python",
   "pygments_lexer": "ipython3",
   "version": "3.8.20"
  }
 },
 "nbformat": 4,
 "nbformat_minor": 5
}
