{
 "cells": [
  {
   "cell_type": "code",
   "execution_count": 1,
   "id": "a5cc037a",
   "metadata": {},
   "outputs": [
    {
     "name": "stdout",
     "output_type": "stream",
     "text": [
      "<zip object at 0x00000256E6718780>\n"
     ]
    }
   ],
   "source": [
    "names = ['Alice', 'Bob', 'Cathy']\n",
    "ages = [25,30,35]\n",
    "\n",
    "paired = zip(names, ages)\n",
    "print(paired)"
   ]
  },
  {
   "cell_type": "code",
   "execution_count": 2,
   "id": "b4198c4f",
   "metadata": {},
   "outputs": [
    {
     "name": "stdout",
     "output_type": "stream",
     "text": [
      "[('Alice', 25), ('Bob', 30), ('Cathy', 35)]\n"
     ]
    }
   ],
   "source": [
    "names = ['Alice', 'Bob', 'Cathy']\n",
    "ages = [25,30,35]\n",
    "\n",
    "paired = list(zip(names, ages))\n",
    "print(paired)"
   ]
  },
  {
   "cell_type": "code",
   "execution_count": 3,
   "id": "307454b0",
   "metadata": {},
   "outputs": [
    {
     "name": "stdout",
     "output_type": "stream",
     "text": [
      "[('Alice', 25), ('Bob', 30), ('Cathy', 35)]\n",
      "{'Alice': 25, 'Bob': 30, 'Cathy': 35}\n"
     ]
    }
   ],
   "source": [
    "names = ['Alice', 'Bob', 'Cathy']\n",
    "ages = [25,30,35]\n",
    "\n",
    "paired = list(zip(names, ages))\n",
    "print(paired)\n",
    "\n",
    "age_dict = dict(paired)\n",
    "print(age_dict)"
   ]
  },
  {
   "cell_type": "code",
   "execution_count": 14,
   "id": "7fcd5509",
   "metadata": {},
   "outputs": [
    {
     "name": "stdout",
     "output_type": "stream",
     "text": [
      "{1: ('Alice', 'A'), 2: ('Bob', 'B'), 3: ('Cathy', 'A+'), 4: ('Mike', 'A')}\n"
     ]
    }
   ],
   "source": [
    "ids = [1,2,3,4]\n",
    "names = ['Alice', 'Bob', 'Cathy', 'Mike']\n",
    "grades = ['A', 'B', 'A+', 'A']\n",
    "\n",
    "students = list(zip(ids, names, grades))\n",
    "\n",
    "student_dict = {id_: (name, grade) for id_, name, grade in zip(ids, names, grades)}\n",
    "\n",
    "print(student_dict)"
   ]
  },
  {
   "cell_type": "markdown",
   "id": "ab0692f3",
   "metadata": {},
   "source": []
  }
 ],
 "metadata": {
  "kernelspec": {
   "display_name": "Bhagya",
   "language": "python",
   "name": "python3"
  },
  "language_info": {
   "codemirror_mode": {
    "name": "ipython",
    "version": 3
   },
   "file_extension": ".py",
   "mimetype": "text/x-python",
   "name": "python",
   "nbconvert_exporter": "python",
   "pygments_lexer": "ipython3",
   "version": "3.8.20"
  }
 },
 "nbformat": 4,
 "nbformat_minor": 5
}
