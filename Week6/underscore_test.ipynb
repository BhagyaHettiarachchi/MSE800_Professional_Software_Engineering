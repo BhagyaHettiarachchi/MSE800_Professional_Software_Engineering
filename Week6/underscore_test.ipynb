{
 "cells": [
  {
   "cell_type": "code",
   "execution_count": 10,
   "id": "fde768d6",
   "metadata": {},
   "outputs": [
    {
     "data": {
      "text/plain": [
       "(1, 3)"
      ]
     },
     "execution_count": 10,
     "metadata": {},
     "output_type": "execute_result"
    }
   ],
   "source": [
    "x, _, y = (1, \"ignored\", 3)\n",
    "x,y"
   ]
  },
  {
   "cell_type": "code",
   "execution_count": 11,
   "id": "098826e5",
   "metadata": {},
   "outputs": [
    {
     "name": "stdout",
     "output_type": "stream",
     "text": [
      "0 Jack\n",
      "1 John\n",
      "2 Ben\n",
      "3 Mike\n",
      "4 Sam\n"
     ]
    }
   ],
   "source": [
    "names = {\"Ben\", \"Jack\", \"John\", \"Sam\", \"Mike\"}\n",
    "for i, name in enumerate(names):\n",
    "    print(i, name)"
   ]
  },
  {
   "cell_type": "code",
   "execution_count": 12,
   "id": "858de9d0",
   "metadata": {},
   "outputs": [
    {
     "name": "stdout",
     "output_type": "stream",
     "text": [
      "1 Jack\n",
      "2 John\n",
      "3 Ben\n",
      "4 Mike\n",
      "5 Sam\n"
     ]
    }
   ],
   "source": [
    "names = {\"Ben\", \"Jack\", \"John\", \"Sam\", \"Mike\"}\n",
    "for i, name in enumerate(names, start=1):\n",
    "    print(i, name)"
   ]
  }
 ],
 "metadata": {
  "kernelspec": {
   "display_name": "Bhagya",
   "language": "python",
   "name": "python3"
  },
  "language_info": {
   "codemirror_mode": {
    "name": "ipython",
    "version": 3
   },
   "file_extension": ".py",
   "mimetype": "text/x-python",
   "name": "python",
   "nbconvert_exporter": "python",
   "pygments_lexer": "ipython3",
   "version": "3.8.20"
  }
 },
 "nbformat": 4,
 "nbformat_minor": 5
}
